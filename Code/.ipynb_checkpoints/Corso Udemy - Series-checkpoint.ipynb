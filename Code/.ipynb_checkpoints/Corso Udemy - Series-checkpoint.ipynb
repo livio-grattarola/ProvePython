{
 "cells": [
  {
   "cell_type": "code",
   "execution_count": 3,
   "metadata": {},
   "outputs": [
    {
     "data": {
      "text/plain": [
       "[60, 90]"
      ]
     },
     "execution_count": 3,
     "metadata": {},
     "output_type": "execute_result"
    }
   ],
   "source": [
    "list1 = [30, 60, 90, 120]\n",
    "list2 = [x for x in list1 if x > 50 and x < 100 ]\n",
    "\n",
    "list2"
   ]
  },
  {
   "cell_type": "code",
   "execution_count": 23,
   "metadata": {},
   "outputs": [
    {
     "data": {
      "text/plain": [
       "(90.0, 30, 150, 450)"
      ]
     },
     "execution_count": 23,
     "metadata": {},
     "output_type": "execute_result"
    }
   ],
   "source": [
    "list3 = [30, 60, 90, 120, 150]\n",
    "import numpy as np\n",
    "arr1 = np.array(list3)\n",
    "\n",
    "#boolean array\n",
    "arr2 = arr1[arr > 100]\n",
    "arr1, arr2\n",
    "\n",
    "arr1.mean(), arr1.min() , arr1.max(), arr1.sum()"
   ]
  },
  {
   "cell_type": "code",
   "execution_count": 16,
   "metadata": {},
   "outputs": [
    {
     "name": "stdout",
     "output_type": "stream",
     "text": [
      "hello world\n",
      "hello world\n",
      "hello world\n",
      "hello world\n",
      "hello world\n",
      "hello world\n",
      "hello world\n",
      "hello world\n",
      "hello world\n",
      "hello world\n"
     ]
    },
    {
     "data": {
      "text/plain": [
       "0.0009542359985061921"
      ]
     },
     "execution_count": 16,
     "metadata": {},
     "output_type": "execute_result"
    }
   ],
   "source": [
    "from timeit import Timer\n",
    "elapsed = Timer('print(\"hello world\")', 'import pandas as pd').timeit(10)\n",
    "elapsed"
   ]
  },
  {
   "cell_type": "code",
   "execution_count": 3,
   "metadata": {},
   "outputs": [
    {
     "name": "stdout",
     "output_type": "stream",
     "text": [
      "0     30\n",
      "1     60\n",
      "2     90\n",
      "3    120\n",
      "4    150\n",
      "Name: My Example Name, dtype: int64\n",
      "90.0 450\n"
     ]
    }
   ],
   "source": [
    "import pandas as pd\n",
    "list = [30, 60, 90, 120, 150]\n",
    "pdSer = pd.Series(list, name=\"My Example Name\" )\n",
    "print(pdSer)\n",
    "print(pdSer.mean(), pdSer.sum())\n"
   ]
  },
  {
   "cell_type": "code",
   "execution_count": 55,
   "metadata": {},
   "outputs": [
    {
     "name": "stdout",
     "output_type": "stream",
     "text": [
      "\n",
      "Filter element by element:\n",
      "2    30\n",
      "3    40\n",
      "4    50\n",
      "Name: Temperatures, dtype: int64\n",
      "\n",
      "Apply function to all elements:\n",
      "0     True\n",
      "1     True\n",
      "2     True\n",
      "3    False\n",
      "4    False\n",
      "Name: Temperatures, dtype: bool\n",
      "\n",
      "Filter combining masks:\n",
      "2    30\n",
      "Name: Temperatures, dtype: int64\n"
     ]
    }
   ],
   "source": [
    "lTemperatures = [10, 20, 30, 40, 50]\n",
    "temps_pd = pd.Series(lTemperatures, name=\"Temperatures\")\n",
    "hot_mask = [False, False, True, True, True]\n",
    "\n",
    "print(\"\\nFilter element by element:\")\n",
    "hot_pd = temps_pd[hot_mask]\n",
    "print(hot_pd)\n",
    "\n",
    "print(\"\\nApply function to all elements:\")\n",
    "cold_mask = temps_pd <= 30\n",
    "print(cold_mask)\n",
    "\n",
    "print(\"\\nFilter combining masks:\")\n",
    "hot_and_cold = temps_pd[hot_mask & cold_mask]\n",
    "print(hot_and_cold)"
   ]
  },
  {
   "cell_type": "code",
   "execution_count": 61,
   "metadata": {},
   "outputs": [
    {
     "name": "stdout",
     "output_type": "stream",
     "text": [
      "\n",
      "Filter by expression\n",
      "1    20\n",
      "2    30\n",
      "3    40\n",
      "Name: Temperatures, dtype: int64\n"
     ]
    }
   ],
   "source": [
    "print(\"\\nFilter by expression\")\n",
    "cold = temps_pd[(temps_pd < 50) & (temps_pd > 15) ]\n",
    "print(cold)\n"
   ]
  },
  {
   "cell_type": "markdown",
   "metadata": {},
   "source": [
    "# Series and Indexes"
   ]
  },
  {
   "cell_type": "code",
   "execution_count": 82,
   "metadata": {},
   "outputs": [
    {
     "name": "stdout",
     "output_type": "stream",
     "text": [
      "Given an existing series with default numerical index (0->4): \n",
      "0    10\n",
      "1    20\n",
      "2    30\n",
      "3    40\n",
      "4    50\n",
      "Name: Temperatures, dtype: int64\n",
      "\n",
      "...another series with specified string index (A->E): \n",
      "A    10\n",
      "C    20\n",
      "B    30\n",
      "D    40\n",
      "E    50\n",
      "dtype: int64\n"
     ]
    }
   ],
   "source": [
    "print(\"Given an existing series with default numerical index (0->4): \")\n",
    "print(temps_pd)\n",
    "\n",
    "print(\"\\n...another series with specified string index (A->E): \")\n",
    "temps_2 = pd.Series(temps_pd.values, index=['A','B' ,'C','D','E'])\n",
    "print(temps_2)"
   ]
  },
  {
   "cell_type": "code",
   "execution_count": 74,
   "metadata": {},
   "outputs": [
    {
     "data": {
      "text/plain": [
       "2018-09-29    10\n",
       "2018-09-30    20\n",
       "2018-10-01    30\n",
       "2018-10-02    40\n",
       "2018-10-03    50\n",
       "Freq: D, dtype: int64"
      ]
     },
     "execution_count": 74,
     "metadata": {},
     "output_type": "execute_result"
    }
   ],
   "source": [
    "dates = pd.date_range('20180929', periods=5 )\n",
    "temp3 = pd.Series(temps_pd.values, index=dates)\n",
    "temp3"
   ]
  },
  {
   "cell_type": "code",
   "execution_count": 80,
   "metadata": {},
   "outputs": [
    {
     "name": "stdout",
     "output_type": "stream",
     "text": [
      "Estrazione A: \n",
      "10\n",
      "\n",
      "Estrazione B: \n",
      "B    20\n",
      "B    30\n",
      "dtype: int64\n"
     ]
    }
   ],
   "source": [
    "temps_2_1 = pd.Series(temps_pd.values, index=['A','B' ,'B','D','E'])\n",
    "print(\"Estrazione A: \")\n",
    "print(temps_2_1['A'])\n",
    "print(\"\\nEstrazione B: \")\n",
    "print(temps_2_1['B'])"
   ]
  },
  {
   "cell_type": "code",
   "execution_count": 12,
   "metadata": {},
   "outputs": [
    {
     "name": "stdout",
     "output_type": "stream",
     "text": [
      "before conversion: object\n"
     ]
    },
    {
     "data": {
      "text/plain": [
       "0   2018-09-13\n",
       "1   2018-09-14\n",
       "dtype: datetime64[ns]"
      ]
     },
     "execution_count": 12,
     "metadata": {},
     "output_type": "execute_result"
    }
   ],
   "source": [
    "strDates = pd.Series(['2018-09-13', '2018-09-14'])\n",
    "print(\"before conversion: \" + strDates.dtype.name)\n",
    "dates = pd.to_datetime(strDates)\n",
    "dates"
   ]
  },
  {
   "cell_type": "code",
   "execution_count": 18,
   "metadata": {},
   "outputs": [
    {
     "name": "stdout",
     "output_type": "stream",
     "text": [
      "Value in list: True\n",
      "Value NOT in series: False\n",
      "Value in series VALUES: True\n"
     ]
    }
   ],
   "source": [
    "list = [30, 45, 60, 90 ]\n",
    "print(\"Value in list: \" + str(45 in list))\n",
    "ser = pd.Series(list)\n",
    "print(\"Value NOT in series: \" + str(45 in ser))\n",
    "print(\"Value in series VALUES: \" + str(45 in ser.values))"
   ]
  },
  {
   "cell_type": "code",
   "execution_count": 20,
   "metadata": {},
   "outputs": [
    {
     "data": {
      "text/plain": [
       "{30, 45, 60, 90}"
      ]
     },
     "execution_count": 20,
     "metadata": {},
     "output_type": "execute_result"
    }
   ],
   "source": [
    "set(ser)"
   ]
  },
  {
   "cell_type": "code",
   "execution_count": 39,
   "metadata": {},
   "outputs": [
    {
     "data": {
      "text/plain": [
       "{0: 30, 1: 45, 2: 60, 3: 90}"
      ]
     },
     "execution_count": 39,
     "metadata": {},
     "output_type": "execute_result"
    }
   ],
   "source": [
    "dict(ser)"
   ]
  },
  {
   "cell_type": "code",
   "execution_count": 26,
   "metadata": {},
   "outputs": [
    {
     "name": "stdout",
     "output_type": "stream",
     "text": [
      "0 30\n",
      "1 45\n",
      "2 60\n",
      "3 90\n"
     ]
    }
   ],
   "source": [
    "for i, val in ser.iteritems():\n",
    "    print(i, val)"
   ]
  },
  {
   "cell_type": "code",
   "execution_count": 31,
   "metadata": {},
   "outputs": [
    {
     "data": {
      "text/plain": [
       "0    32\n",
       "1    47\n",
       "2    62\n",
       "3    92\n",
       "dtype: int64"
      ]
     },
     "execution_count": 31,
     "metadata": {},
     "output_type": "execute_result"
    }
   ],
   "source": [
    "ser = pd.Series([30, 45, 60, 90 ])\n",
    "ser + 2"
   ]
  },
  {
   "cell_type": "code",
   "execution_count": 32,
   "metadata": {},
   "outputs": [
    {
     "data": {
      "text/plain": [
       "0     60\n",
       "1     90\n",
       "2    120\n",
       "3    180\n",
       "dtype: int64"
      ]
     },
     "execution_count": 32,
     "metadata": {},
     "output_type": "execute_result"
    }
   ],
   "source": [
    "def double(x):\n",
    "    return x * 2\n",
    "ser.apply(double)"
   ]
  },
  {
   "cell_type": "code",
   "execution_count": 41,
   "metadata": {},
   "outputs": [
    {
     "data": {
      "text/plain": [
       "a      NaN\n",
       "b    145.0\n",
       "c    160.0\n",
       "d    190.0\n",
       "e      NaN\n",
       "dtype: float64"
      ]
     },
     "execution_count": 41,
     "metadata": {},
     "output_type": "execute_result"
    }
   ],
   "source": [
    "ser1 = pd.Series([30, 45, 60, 90 ], index=['a', 'b', 'c', 'd'])\n",
    "ser2 = pd.Series([100, 100, 100, 100 ], index=['b', 'c', 'd', 'e'])\n",
    "ser1 + ser2"
   ]
  },
  {
   "cell_type": "code",
   "execution_count": 46,
   "metadata": {},
   "outputs": [
    {
     "data": {
      "text/plain": [
       "a    -90.0\n",
       "a   -190.0\n",
       "b    115.0\n",
       "b    215.0\n",
       "b    120.0\n",
       "b    220.0\n",
       "c      NaN\n",
       "dtype: float64"
      ]
     },
     "execution_count": 46,
     "metadata": {},
     "output_type": "execute_result"
    }
   ],
   "source": [
    "ser1 = pd.Series([10, 15, 20, 10 ], index=['a', 'b', 'b', 'c'])\n",
    "ser2 = pd.Series([-100, -200 , 100, 200 ], index=['a', 'a', 'b', 'b'])\n",
    "ser1 + ser2"
   ]
  },
  {
   "cell_type": "code",
   "execution_count": 58,
   "metadata": {},
   "outputs": [
    {
     "data": {
      "text/plain": [
       "90"
      ]
     },
     "execution_count": 58,
     "metadata": {},
     "output_type": "execute_result"
    }
   ],
   "source": [
    "ser = pd.Series([30, 45, 60, 90 ])\n",
    "ser[0] # 30 <--label (index value)\n",
    "#ser[-1] # error (-1  not found in index)\n",
    "ser.loc[0] # 30 <--label (index value)\n",
    "ser.iloc[-1] #90 <-- position"
   ]
  },
  {
   "cell_type": "code",
   "execution_count": 65,
   "metadata": {},
   "outputs": [
    {
     "data": {
      "text/plain": [
       "30"
      ]
     },
     "execution_count": 65,
     "metadata": {},
     "output_type": "execute_result"
    }
   ],
   "source": [
    "ser = pd.Series([30, 45, 60, 90 ], index=['a','b','c','d'])\n",
    "ser['a'] # 30 <--label (index value)\n",
    "ser[-1] # 90 <-- position\n",
    "#ser.loc[0] # error \n",
    "ser.iloc[0] #30 <-- position"
   ]
  },
  {
   "cell_type": "code",
   "execution_count": 73,
   "metadata": {},
   "outputs": [
    {
     "data": {
      "text/plain": [
       "a          30\n",
       "T          45\n",
       "c          60\n",
       "A SPACE    90\n",
       "dtype: int64"
      ]
     },
     "execution_count": 73,
     "metadata": {},
     "output_type": "execute_result"
    }
   ],
   "source": [
    "ser = pd.Series([30, 45, 60, 90 ], index=['a','T','c','A SPACE'])\n",
    "ser.a #<-- 30\n",
    "ser.T # Capital T is a reserved value for transpose method\n",
    "#ser.A SPACE # invalid sintax\n"
   ]
  },
  {
   "cell_type": "code",
   "execution_count": 78,
   "metadata": {},
   "outputs": [
    {
     "data": {
      "text/plain": [
       "a    140\n",
       "b     45\n",
       "c     60\n",
       "d     90\n",
       "dtype: int64"
      ]
     },
     "execution_count": 78,
     "metadata": {},
     "output_type": "execute_result"
    }
   ],
   "source": [
    "ser = pd.Series([30, 45, 60, 90 ], index=['a','b','c','d'])\n",
    "ser.loc['a'] = 40\n",
    "ser.loc['a'] += 100\n",
    "ser"
   ]
  },
  {
   "cell_type": "code",
   "execution_count": 83,
   "metadata": {},
   "outputs": [
    {
     "data": {
      "text/plain": [
       "a      30\n",
       "b      45\n",
       "c      60\n",
       "d      90\n",
       "e    1000\n",
       "dtype: int64"
      ]
     },
     "execution_count": 83,
     "metadata": {},
     "output_type": "execute_result"
    }
   ],
   "source": [
    "ser = pd.Series([30, 45, 60, 90 ], index=['a','b','c','d'])\n",
    "ser2 = ser.append(pd.Series([1000 ], index=['e']))\n",
    "ser ##not changed\n",
    "ser2 "
   ]
  },
  {
   "cell_type": "code",
   "execution_count": 126,
   "metadata": {},
   "outputs": [
    {
     "data": {
      "text/plain": [
       "b    45\n",
       "c    60\n",
       "d    90\n",
       "dtype: int64"
      ]
     },
     "execution_count": 126,
     "metadata": {},
     "output_type": "execute_result"
    }
   ],
   "source": [
    "ser = pd.Series([30, 45, 60, 90 ], index=['a','b','c','d'])\n",
    "del ser['a']\n",
    "ser"
   ]
  },
  {
   "cell_type": "code",
   "execution_count": 122,
   "metadata": {},
   "outputs": [
    {
     "data": {
      "text/plain": [
       "a    30\n",
       "b    45\n",
       "dtype: int64"
      ]
     },
     "execution_count": 122,
     "metadata": {},
     "output_type": "execute_result"
    }
   ],
   "source": [
    "ser = pd.Series([30, 45, 60, 90 ], index=['a','b','c','d'])\n",
    "mask = (ser.index == 'a') | (ser.index == 'b')\n",
    "ser[mask]"
   ]
  },
  {
   "cell_type": "code",
   "execution_count": 128,
   "metadata": {},
   "outputs": [
    {
     "data": {
      "text/plain": [
       "count     4.000000\n",
       "mean     56.250000\n",
       "std      25.617377\n",
       "min      30.000000\n",
       "25%      41.250000\n",
       "50%      52.500000\n",
       "75%      67.500000\n",
       "max      90.000000\n",
       "dtype: float64"
      ]
     },
     "execution_count": 128,
     "metadata": {},
     "output_type": "execute_result"
    }
   ],
   "source": [
    "ser = pd.Series([30, 45, 60, 90 ])\n",
    "ser.describe()"
   ]
  },
  {
   "cell_type": "code",
   "execution_count": 131,
   "metadata": {},
   "outputs": [
    {
     "data": {
      "text/plain": [
       "count         7\n",
       "unique        4\n",
       "top       Legno\n",
       "freq          3\n",
       "dtype: object"
      ]
     },
     "execution_count": 131,
     "metadata": {},
     "output_type": "execute_result"
    }
   ],
   "source": [
    "ser = pd.Series([\"Metallo\", \"Plastica\", \"Metallo\", \"Legno\",  \"Legno\" , \"Legno\", \"Pietra\" ], dtype='category')\n",
    "ser.describe()"
   ]
  },
  {
   "cell_type": "code",
   "execution_count": 137,
   "metadata": {},
   "outputs": [
    {
     "data": {
      "text/plain": [
       "0    False\n",
       "1    False\n",
       "2     True\n",
       "3    False\n",
       "4     True\n",
       "5     True\n",
       "6    False\n",
       "dtype: bool"
      ]
     },
     "execution_count": 137,
     "metadata": {},
     "output_type": "execute_result"
    }
   ],
   "source": [
    "ser = pd.Series([\"Metallo\", \"Plastica\", \"Metallo\", \"Legno\",  \"Legno\" , \"Legno\", \"Pietra\" ], dtype='category')\n",
    "ser.duplicated().any() # True\n",
    "ser.duplicated().all() # False\n",
    "ser.duplicated()"
   ]
  },
  {
   "cell_type": "code",
   "execution_count": 146,
   "metadata": {},
   "outputs": [
    {
     "data": {
      "text/plain": [
       "0     Metallo\n",
       "1    Plastica\n",
       "3       Legno\n",
       "6      Pietra\n",
       "dtype: category\n",
       "Categories (4, object): [Legno, Metallo, Pietra, Plastica]"
      ]
     },
     "execution_count": 146,
     "metadata": {},
     "output_type": "execute_result"
    }
   ],
   "source": [
    "mask = ser.duplicated(keep='first') #first value is not considered duplicated (default)\n",
    "ser[~mask] # ~ mean NOT"
   ]
  },
  {
   "cell_type": "code",
   "execution_count": 159,
   "metadata": {},
   "outputs": [
    {
     "data": {
      "text/plain": [
       "0    10\n",
       "dtype: object"
      ]
     },
     "execution_count": 159,
     "metadata": {},
     "output_type": "execute_result"
    }
   ],
   "source": [
    "ser = pd.Series([\"10\", \"15\", 20, 10 ], index=['a', 'b', 'b', 'c'])\n",
    "pd.Series(ser.loc['b']) #ok from series to series\n",
    "pd.Series(ser.loc['a']) #ok from object to series"
   ]
  },
  {
   "cell_type": "code",
   "execution_count": 163,
   "metadata": {},
   "outputs": [
    {
     "data": {
      "text/plain": [
       "0    10.0\n",
       "1    15.0\n",
       "2     NaN\n",
       "dtype: float64"
      ]
     },
     "execution_count": 163,
     "metadata": {},
     "output_type": "execute_result"
    }
   ],
   "source": [
    "ser = pd.Series([\"10\", \"15\", None ])\n",
    "ser"
   ]
  },
  {
   "cell_type": "code",
   "execution_count": 171,
   "metadata": {},
   "outputs": [
    {
     "name": "stdout",
     "output_type": "stream",
     "text": [
      "LEN: 3\n"
     ]
    },
    {
     "data": {
      "text/plain": [
       "count     2.0\n",
       "mean     10.0\n",
       "std       0.0\n",
       "min      10.0\n",
       "25%      10.0\n",
       "50%      10.0\n",
       "75%      10.0\n",
       "max      10.0\n",
       "dtype: float64"
      ]
     },
     "execution_count": 171,
     "metadata": {},
     "output_type": "execute_result"
    }
   ],
   "source": [
    "ser = pd.Series([10, 10, None ])\n",
    "len(ser) # 3 elements: Nan is considered from len but not from count\n",
    "ser.describe()"
   ]
  },
  {
   "cell_type": "code",
   "execution_count": 174,
   "metadata": {},
   "outputs": [
    {
     "data": {
      "text/plain": [
       "0    10.0\n",
       "1    10.0\n",
       "dtype: float64"
      ]
     },
     "execution_count": 174,
     "metadata": {},
     "output_type": "execute_result"
    }
   ],
   "source": [
    "ser = pd.Series([10, 10, None ])\n",
    "mask = ser.isnull() #  False , False , True\n",
    "mask.any() #True\n",
    "ser[~mask]\n"
   ]
  },
  {
   "cell_type": "code",
   "execution_count": 175,
   "metadata": {},
   "outputs": [
    {
     "data": {
      "text/plain": [
       "0    10.0\n",
       "1    10.0\n",
       "2    -1.0\n",
       "dtype: float64"
      ]
     },
     "execution_count": 175,
     "metadata": {},
     "output_type": "execute_result"
    }
   ],
   "source": [
    "ser = pd.Series([10, 10, None ])\n",
    "ser.fillna(-1)"
   ]
  },
  {
   "cell_type": "code",
   "execution_count": 189,
   "metadata": {},
   "outputs": [
    {
     "data": {
      "text/plain": [
       "<matplotlib.axes._subplots.AxesSubplot at 0x7f1c0e7a1ba8>"
      ]
     },
     "execution_count": 189,
     "metadata": {},
     "output_type": "execute_result"
    },
    {
     "data": {
      "image/png": "[encoded data removed]",
      "text/plain": [
       "<Figure size 432x288 with 1 Axes>"
      ]
     },
     "metadata": {
      "needs_background": "light"
     },
     "output_type": "display_data"
    }
   ],
   "source": [
    "#Jupyter setting\n",
    "%matplotlib inline \n",
    "import matplotlib.pyplot as plt #import plot lib\n",
    "ser = ser = pd.Series([30, 45, 60, 90, 0, 15 ])\n",
    "plt = ser.plot()"
   ]
  },
  {
   "cell_type": "code",
   "execution_count": 191,
   "metadata": {},
   "outputs": [
    {
     "data": {
      "text/plain": [
       "<matplotlib.axes._subplots.AxesSubplot at 0x7f1c0e6770b8>"
      ]
     },
     "execution_count": 191,
     "metadata": {},
     "output_type": "execute_result"
    },
    {
     "data": {
      "image/png": "[encoded data removed]",
      "text/plain": [
       "<Figure size 432x288 with 1 Axes>"
      ]
     },
     "metadata": {
      "needs_background": "light"
     },
     "output_type": "display_data"
    }
   ],
   "source": [
    "ser.plot.bar()"
   ]
  },
  {
   "cell_type": "code",
   "execution_count": 184,
   "metadata": {},
   "outputs": [
    {
     "data": {
      "text/plain": [
       "<matplotlib.axes._subplots.AxesSubplot at 0x7f1c0e89d588>"
      ]
     },
     "execution_count": 184,
     "metadata": {},
     "output_type": "execute_result"
    },
    {
     "data": {
      "image/png": "[encoded data removed]",
      "text/plain": [
       "<Figure size 432x288 with 1 Axes>"
      ]
     },
     "metadata": {
      "needs_background": "light"
     },
     "output_type": "display_data"
    }
   ],
   "source": [
    "ser.plot.hist()"
   ]
  },
  {
   "cell_type": "code",
   "execution_count": 194,
   "metadata": {},
   "outputs": [
    {
     "data": {
      "text/plain": [
       "<matplotlib.axes._subplots.AxesSubplot at 0x7f1c0e570470>"
      ]
     },
     "execution_count": 194,
     "metadata": {},
     "output_type": "execute_result"
    },
    {
     "data": {
      "image/png": "[encoded data removed]",
      "text/plain": [
       "<Figure size 360x360 with 1 Axes>"
      ]
     },
     "metadata": {},
     "output_type": "display_data"
    }
   ],
   "source": [
    "ser.plot.pie(figsize=(5,5))"
   ]
  },
  {
   "cell_type": "code",
   "execution_count": 206,
   "metadata": {},
   "outputs": [],
   "source": [
    "ser = pd.Series([30, 45, 60, 90, 0, 15 ])\n",
    "ser.name=\"Temperature\"\n",
    "ser.to_csv(\"out/Ser.csv\", header=True, index_label=\"My Index\")"
   ]
  },
  {
   "cell_type": "code",
   "execution_count": 207,
   "metadata": {},
   "outputs": [
    {
     "name": "stdout",
     "output_type": "stream",
     "text": [
      "My Index,Temperature\n",
      "0,30\n",
      "1,45\n",
      "2,60\n",
      "3,90\n",
      "4,0\n",
      "5,15\n"
     ]
    }
   ],
   "source": [
    "cat \"out/Ser.csv\""
   ]
  },
  {
   "cell_type": "code",
   "execution_count": 224,
   "metadata": {},
   "outputs": [
    {
     "data": {
      "text/plain": [
       "0    30\n",
       "1    45\n",
       "2    60\n",
       "3    90\n",
       "4     0\n",
       "5    15\n",
       "Name: Temperature, dtype: int64"
      ]
     },
     "execution_count": 224,
     "metadata": {},
     "output_type": "execute_result"
    }
   ],
   "source": [
    "dataFrame = pd.read_csv(\"out/Ser.csv\")\n",
    "dataFrame[\"Temperature\"]"
   ]
  }
 ],
 "metadata": {
  "kernelspec": {
   "display_name": "Python 3",
   "language": "python",
   "name": "python3"
  },
  "language_info": {
   "codemirror_mode": {
    "name": "ipython",
    "version": 3
   },
   "file_extension": ".py",
   "mimetype": "text/x-python",
   "name": "python",
   "nbconvert_exporter": "python",
   "pygments_lexer": "ipython3",
   "version": "3.6.5"
  }
 },
 "nbformat": 4,
 "nbformat_minor": 2
}
