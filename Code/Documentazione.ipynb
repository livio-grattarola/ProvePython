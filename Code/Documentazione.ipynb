{
 "cells": [
  {
   "cell_type": "markdown",
   "metadata": {},
   "source": [
    "# Progetto Carburante"
   ]
  },
  {
   "cell_type": "markdown",
   "metadata": {},
   "source": [
    "## Obiettivo (rileggere ogni volta, per ricordarsi l'obiettivo)\n",
    "Al fine di esercitarmi con Python e con le tecniche di data analysis, voglio utilizzare i dati del ministero e dell'ISTAT."
   ]
  },
  {
   "cell_type": "markdown",
   "metadata": {},
   "source": [
    "## Orizzonti e limiti\n",
    "Voglio fare un'analisi su \n",
    "* orizzonte temporale di qualche anno (inizio da 2017 - 2018)\n",
    "* granularità geografica sulle PROVINCE\n"
   ]
  },
  {
   "cell_type": "markdown",
   "metadata": {},
   "source": [
    "# Dati di partenza\n",
    "## Anagrafica pompe\n",
    "I dati csv delle pompe hanno questo formato:\n",
    "\n",
    "| idImpianto | Gestore | Bandiera | Tipo Impianto | Nome Impianto | Indirizzo | Comune | Provincia | Latitudine | Longitudine |\n",
    "|------------|---------|---------|---------|---------|---------|---------|---------|---------|---------|\n",
    "\n",
    "Esiste un file diverso per ogni giorno: l'anagrafica è tempo variante per:\n",
    "* creazione nuove pompe\n",
    "* eliminazione vecchie pompe\n",
    "* variazioni pompe (può cambiare bandiera, per esempio)\n",
    "\n",
    "\n",
    "### Dati di analisi\n",
    "\n",
    "Ai miei fini, voglio usare\n",
    "* **idImpianto**: id proveniente dall'excel, va relazionato coi prezzi del giorno (csv da associare)\n",
    "* **Bandiera**: \"marca\" della pompa (Esso, Agip, Pompe Bianche). Mi interessa per fare analisi fra marche diverse\n",
    "* **Tipo Impianto**: strada statale o autostrada. \n",
    "* **Latitudine/Longitudine**: è la vera chiave forte, che mi permette di analizzare le variazioni anagrafiche. \n",
    "** **ATTENZIONE**: nello stesso file ci possono essere pompe diverse con le stesse coordinate, vedere sezione \"Pulizia dei dati\"\n",
    "* **Provincia**: codice provincia, sarà la base per la ripartizione geografica.\n",
    "* **Comune**: voglio usarlo per verifiche/raccordi anagrafici (in alcuni dati manca la provincia ma posso cercare di risalire tramite il comune)\n",
    "\n",
    "\n",
    "### Pulizia dei dati\n",
    "\n",
    "\n",
    "#### **NA e NaN**\n",
    "Per default NA è interpretato con NaN (e Napoli crea problemi). Si elimina specificando alcuni parametri nel from_csv, es: (...keep_default_na=False, na_values=[''])\n",
    "\n",
    "\n",
    "#### **Province mancanti**\n",
    "Alcune pompe non hanno il dato della provincia. Controllare il caso NA (mi sembra sia proprio quello)\n",
    "\n",
    "#### **Lat e Long ripetuti nello stesso file**\n",
    "Una pompa ad una stessa (Lat,Long) può comparire ripetuta. Analizzando i dati, mi sembra sia successo se \n",
    "**NB**: leggendo il file dei metadati sul sito del ministero ho imparato che:\n",
    "* i valori sono i prezzi alle 8 AM riferiti alla Data Estrazione nella prima riga del csv (sopra l'intestazione)\n",
    "* i prezzi vengono comunicati in una data diversa da quella di Estrazione, a quanto ho visto PRECEDENTE alla stessa. \n",
    "\n",
    "La ripetizione potrebbe essere dovuta a un cambio di prezzo o di bandiera a valle di un prezzo già comunicato.\n",
    "\n",
    "Ai fini della pulizia, cercherò di prendere il valore piu' recende (in base alla data di comunicazione) per ogni tipologica di carburante.\n",
    "\n"
   ]
  },
  {
   "cell_type": "markdown",
   "metadata": {},
   "source": [
    "# Data Warehouse\n",
    "## DimImpianto\n",
    "A partire dai dati anagrafici di partenza voglio creare una DimImpianto:\n",
    "* **id unificato**: chiave forte dell'impianto (sarà 1:1 con la coppia (lat, long), di fatto)\n",
    "* **Regione**: dovrò riconciliare con le province\n",
    "* **Area**: Nord / Centro / Sud / Isole\n",
    "* **Data inizio**: data prima presenza in anagrafica\n",
    "* **Data fine** data ultima rilevazione\n",
    "* **Latitudine/Longitudine**: come da input\n",
    "* **Tipo Impianto**: come da input\n",
    "* **Provincia**: come da input\n"
   ]
  },
  {
   "cell_type": "code",
   "execution_count": null,
   "metadata": {},
   "outputs": [],
   "source": []
  },
  {
   "cell_type": "code",
   "execution_count": null,
   "metadata": {},
   "outputs": [],
   "source": []
  },
  {
   "cell_type": "code",
   "execution_count": null,
   "metadata": {},
   "outputs": [],
   "source": []
  }
 ],
 "metadata": {
  "kernelspec": {
   "display_name": "Python 3",
   "language": "python",
   "name": "python3"
  },
  "language_info": {
   "codemirror_mode": {
    "name": "ipython",
    "version": 3
   },
   "file_extension": ".py",
   "mimetype": "text/x-python",
   "name": "python",
   "nbconvert_exporter": "python",
   "pygments_lexer": "ipython3",
   "version": "3.6.5"
  }
 },
 "nbformat": 4,
 "nbformat_minor": 2
}
