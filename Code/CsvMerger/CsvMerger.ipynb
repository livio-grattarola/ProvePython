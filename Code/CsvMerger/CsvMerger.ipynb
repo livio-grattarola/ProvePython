{
 "cells": [
  {
   "cell_type": "markdown",
   "metadata": {},
   "source": [
    "# Merging csv files"
   ]
  },
  {
   "cell_type": "code",
   "execution_count": 5,
   "metadata": {},
   "outputs": [],
   "source": [
    "        "
   ]
  },
  {
   "cell_type": "code",
   "execution_count": 1,
   "metadata": {},
   "outputs": [],
   "source": [
    "import pandas as pd\n",
    "import os\n",
    "import openpyxl\n",
    "import xlrd\n",
    "\n",
    "def readCsvFolder(folderPath):\n",
    "    dfs = []\n",
    "    for filename in os.listdir(folderPath):\n",
    "        if filename.endswith(\".csv\"):\n",
    "            df = pd.read_csv(folderPath + \"/\" + filename)\n",
    "            df.name = filename\n",
    "            dfs.append(df)\n",
    "    return dfs;\n",
    "\n",
    "def readExcelFolder(folderPath):\n",
    "    dfs = []\n",
    "    for filename in os.listdir(folderPath):\n",
    "        if filename.endswith(\".xlsx\"):\n",
    "            df = pd.read_excel(folderPath + \"/\" + filename)\n",
    "            df.name = filename\n",
    "            dfs.append(df)\n",
    "    return dfs;\n"
   ]
  },
  {
   "cell_type": "code",
   "execution_count": 2,
   "metadata": {},
   "outputs": [],
   "source": [
    "sourcePath = './resources/Andrea'\n",
    "\n",
    "#legge tutti i csv in una determinata cartella\n",
    "dfFiles = readExcelFolder(sourcePath);\n",
    "\n"
   ]
  },
  {
   "cell_type": "code",
   "execution_count": 3,
   "metadata": {},
   "outputs": [],
   "source": [
    "\n",
    "#ne fa la concatenazione\n",
    "dfFull = pd.concat(dfFiles, sort=False)\n",
    "dfFull.to_excel('./output/merged.xlsx')"
   ]
  },
  {
   "cell_type": "code",
   "execution_count": 27,
   "metadata": {},
   "outputs": [
    {
     "name": "stdout",
     "output_type": "stream",
     "text": [
      "files:  6\n",
      "total columns found:  31\n",
      "result rows:  31\n"
     ]
    },
    {
     "data": {
      "text/html": [
       "<div>\n",
       "<style scoped>\n",
       "    .dataframe tbody tr th:only-of-type {\n",
       "        vertical-align: middle;\n",
       "    }\n",
       "\n",
       "    .dataframe tbody tr th {\n",
       "        vertical-align: top;\n",
       "    }\n",
       "\n",
       "    .dataframe thead th {\n",
       "        text-align: right;\n",
       "    }\n",
       "</style>\n",
       "<table border=\"1\" class=\"dataframe\">\n",
       "  <thead>\n",
       "    <tr style=\"text-align: right;\">\n",
       "      <th></th>\n",
       "      <th>Column</th>\n",
       "      <th>tag_view-1124-20181109121022.xlsx</th>\n",
       "      <th>tag_view-1124-20181109121231.xlsx</th>\n",
       "      <th>tag_view-1124-20181109121109.xlsx</th>\n",
       "      <th>tag_view-1124-20181109120940.xlsx</th>\n",
       "      <th>tag_view-1124-20181109121151.xlsx</th>\n",
       "      <th>tag_view-1124-20181109121304.xlsx</th>\n",
       "    </tr>\n",
       "  </thead>\n",
       "  <tbody>\n",
       "    <tr>\n",
       "      <th>15</th>\n",
       "      <td>ASPECT:allerta_verde</td>\n",
       "      <td></td>\n",
       "      <td></td>\n",
       "      <td></td>\n",
       "      <td></td>\n",
       "      <td>Missing</td>\n",
       "      <td></td>\n",
       "    </tr>\n",
       "    <tr>\n",
       "      <th>23</th>\n",
       "      <td>TOPIC:altro</td>\n",
       "      <td></td>\n",
       "      <td>Missing</td>\n",
       "      <td>Missing</td>\n",
       "      <td></td>\n",
       "      <td></td>\n",
       "      <td></td>\n",
       "    </tr>\n",
       "    <tr>\n",
       "      <th>30</th>\n",
       "      <td>PRODUCT:paline</td>\n",
       "      <td>Missing</td>\n",
       "      <td>Missing</td>\n",
       "      <td></td>\n",
       "      <td>Missing</td>\n",
       "      <td>Missing</td>\n",
       "      <td>Missing</td>\n",
       "    </tr>\n",
       "  </tbody>\n",
       "</table>\n",
       "</div>"
      ],
      "text/plain": [
       "                  Column tag_view-1124-20181109121022.xlsx  \\\n",
       "15  ASPECT:allerta_verde                                     \n",
       "23           TOPIC:altro                                     \n",
       "30        PRODUCT:paline                           Missing   \n",
       "\n",
       "   tag_view-1124-20181109121231.xlsx tag_view-1124-20181109121109.xlsx  \\\n",
       "15                                                                       \n",
       "23                           Missing                           Missing   \n",
       "30                           Missing                                     \n",
       "\n",
       "   tag_view-1124-20181109120940.xlsx tag_view-1124-20181109121151.xlsx  \\\n",
       "15                                                             Missing   \n",
       "23                                                                       \n",
       "30                           Missing                           Missing   \n",
       "\n",
       "   tag_view-1124-20181109121304.xlsx  \n",
       "15                                    \n",
       "23                                    \n",
       "30                           Missing  "
      ]
     },
     "execution_count": 27,
     "metadata": {},
     "output_type": "execute_result"
    }
   ],
   "source": [
    "print('files: ' ,len(dfFiles))\n",
    "dsColNames = pd.Series()\n",
    "for x in dfFiles:\n",
    "    ser =  pd.Series(x.columns.values)\n",
    "    dsColNames = dsColNames.append(ser, ignore_index = True, verify_integrity=False)\n",
    "\n",
    "dsColNames = dsColNames.unique()\n",
    "\n",
    "dfCols = pd.DataFrame(dsColNames , columns=['AllCols'] )\n",
    "#dfCols= dfCols.set_index(dfCols['AllCols'])\n",
    "print('total columns found: ' ,dfCols.shape[0])\n",
    "\n",
    "#df0 = pd.DataFrame(dfFiles[0].columns.values, columns= ['0_Cols'])\n",
    "\n",
    "dfCols['AlwaysPresent'] = True\n",
    "for x in dfFiles:\n",
    "    dfCols[x.name] = dfCols['AllCols'].apply(lambda colName : colName in x.columns.values)\n",
    "    dfCols['AlwaysPresent'] = dfCols['AlwaysPresent'] & dfCols[x.name]\n",
    "    \n",
    "print('result rows: ' ,dfCols.shape[0])\n",
    "\n",
    "report = dfCols.loc[dfCols['AlwaysPresent'] == False].replace(to_replace = True, value = '').replace(to_replace = False, value = 'Missing')\n",
    "del report['AlwaysPresent']\n",
    "report.rename(index=str, columns={\"AllCols\": \"Column\"})\n",
    "#report['AllColls'].name = 'Column'"
   ]
  },
  {
   "cell_type": "code",
   "execution_count": null,
   "metadata": {},
   "outputs": [],
   "source": []
  },
  {
   "cell_type": "code",
   "execution_count": 5,
   "metadata": {},
   "outputs": [
    {
     "data": {
      "text/plain": [
       "\"    \\ndf0 = pd.DataFrame(dfCols)\\ndf0['check'] = df0['AllCols'].apply(lambda x : x in dfFiles[0].columns.values)\\ndf0\\n#dfCols.merge( )\\n\\n#colMerge = dfCols.join(df0,  how='outer')\\n#print('result rows found: ' ,colMerge.shape[0])\\n#colMerge\\n\""
      ]
     },
     "execution_count": 5,
     "metadata": {},
     "output_type": "execute_result"
    }
   ],
   "source": [
    "'''sourcePath = './resources'\n",
    "\n",
    "#legge tutti i csv in una determinata cartella\n",
    "dfFiles = readCsvFolder(sourcePath);\n",
    "\n",
    "#ne fa la concatenazione\n",
    "dfFull = pd.concat(dfFiles, sort=False)\n",
    "#dfFull\n",
    "'''\n",
    "'''    \n",
    "df0 = pd.DataFrame(dfCols)\n",
    "df0['check'] = df0['AllCols'].apply(lambda x : x in dfFiles[0].columns.values)\n",
    "df0\n",
    "#dfCols.merge( )\n",
    "\n",
    "#colMerge = dfCols.join(df0,  how='outer')\n",
    "#print('result rows found: ' ,colMerge.shape[0])\n",
    "#colMerge\n",
    "'''"
   ]
  },
  {
   "cell_type": "code",
   "execution_count": null,
   "metadata": {},
   "outputs": [],
   "source": []
  },
  {
   "cell_type": "code",
   "execution_count": null,
   "metadata": {},
   "outputs": [],
   "source": []
  },
  {
   "cell_type": "code",
   "execution_count": null,
   "metadata": {},
   "outputs": [],
   "source": []
  }
 ],
 "metadata": {
  "kernelspec": {
   "display_name": "Python 3",
   "language": "python",
   "name": "python3"
  },
  "language_info": {
   "codemirror_mode": {
    "name": "ipython",
    "version": 3
   },
   "file_extension": ".py",
   "mimetype": "text/x-python",
   "name": "python",
   "nbconvert_exporter": "python",
   "pygments_lexer": "ipython3",
   "version": "3.6.5"
  }
 },
 "nbformat": 4,
 "nbformat_minor": 2
}
