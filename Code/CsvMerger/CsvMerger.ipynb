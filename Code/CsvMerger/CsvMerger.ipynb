{
 "cells": [
  {
   "cell_type": "markdown",
   "metadata": {},
   "source": [
    "# Merging csv files"
   ]
  },
  {
   "cell_type": "code",
   "execution_count": 5,
   "metadata": {},
   "outputs": [],
   "source": []
  },
  {
   "cell_type": "code",
   "execution_count": 8,
   "metadata": {},
   "outputs": [],
   "source": [
    "import pandas as pd\n",
    "import os\n",
    "import openpyxl\n",
    "import xlrd\n",
    "\n",
    "def readCsvFolder(folderPath):\n",
    "    dfs = []\n",
    "    for filename in os.listdir(folderPath):\n",
    "        if filename.endswith(\".csv\"):\n",
    "            dfs.append(pd.read_csv(folderPath + \"/\" + filename))\n",
    "    return dfs;\n",
    "\n",
    "def readExcelFolder(folderPath):\n",
    "    dfs = []\n",
    "    for filename in os.listdir(folderPath):\n",
    "        if filename.endswith(\".xlsx\"):\n",
    "            dfs.append(pd.read_excel(folderPath + \"/\" + filename))\n",
    "    return dfs;"
   ]
  },
  {
   "cell_type": "code",
   "execution_count": 10,
   "metadata": {},
   "outputs": [],
   "source": [
    "\n",
    "sourcePath = './resources'\n",
    "\n",
    "#legge tutti i csv in una determinata cartella\n",
    "dfFiles = readCsvFolder(sourcePath);\n",
    "\n",
    "#ne fa la concatenazione\n",
    "dfFull = pd.concat(dfFiles, sort=False)\n",
    "#dfFull\n"
   ]
  },
  {
   "cell_type": "code",
   "execution_count": 10,
   "metadata": {},
   "outputs": [],
   "source": [
    "sourcePath = './resources/Andrea'\n",
    "\n",
    "#legge tutti i csv in una determinata cartella\n",
    "dfFiles = readExcelFolder(sourcePath);\n",
    "\n",
    "#ne fa la concatenazione\n",
    "dfFull = pd.concat(dfFiles, sort=False)\n",
    "#dfFull = pd.read_excel( './resources/Andrea/tag_view-1124-20181109120940.xlsx')\n",
    "dfFull.to_excel('./output/merged.xlsx')"
   ]
  },
  {
   "cell_type": "code",
   "execution_count": null,
   "metadata": {},
   "outputs": [],
   "source": []
  },
  {
   "cell_type": "code",
   "execution_count": null,
   "metadata": {},
   "outputs": [],
   "source": []
  },
  {
   "cell_type": "code",
   "execution_count": null,
   "metadata": {},
   "outputs": [],
   "source": []
  },
  {
   "cell_type": "code",
   "execution_count": null,
   "metadata": {},
   "outputs": [],
   "source": []
  }
 ],
 "metadata": {
  "kernelspec": {
   "display_name": "Python 3",
   "language": "python",
   "name": "python3"
  },
  "language_info": {
   "codemirror_mode": {
    "name": "ipython",
    "version": 3
   },
   "file_extension": ".py",
   "mimetype": "text/x-python",
   "name": "python",
   "nbconvert_exporter": "python",
   "pygments_lexer": "ipython3",
   "version": "3.6.5"
  }
 },
 "nbformat": 4,
 "nbformat_minor": 2
}
