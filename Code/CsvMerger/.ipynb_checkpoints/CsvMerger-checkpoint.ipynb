{
 "cells": [
  {
   "cell_type": "markdown",
   "metadata": {},
   "source": [
    "# Merging csv files"
   ]
  },
  {
   "cell_type": "code",
   "execution_count": 4,
   "metadata": {},
   "outputs": [
    {
     "data": {
      "text/plain": [
       "[   ID TEST        DATE   NUMBER\n",
       " 0   1  AAA  2018/01/01    350.7\n",
       " 1   2  BBB  2018/01/31    400.0\n",
       " 2   3  CCC  2017/01/31  10000.0,    ID TEST        DATE  NUMBER\n",
       " 0   1  DDD         NaN   350.7\n",
       " 1   2  EEE         NaN   400.0\n",
       " 2   3  FFF  2017/01/31     NaN,    ID TEST  NUMBER  BOOL\n",
       " 0   7  GGG  350.70  True\n",
       " 1   8  HHH     400  True\n",
       " 2   9  III   False   NaN]"
      ]
     },
     "execution_count": 4,
     "metadata": {},
     "output_type": "execute_result"
    }
   ],
   "source": [
    "import pandas as pd\n",
    "import os\n",
    "\n",
    "def readCsvFolder(folderPath):\n",
    "    dfs = []\n",
    "    for filename in os.listdir(folderPath):\n",
    "        if filename.endswith(\".csv\"):\n",
    "            dfs.append(pd.read_csv(folderPath + \"/\" + filename))\n",
    "    return dfs;\n",
    "\n",
    "\n",
    "\n",
    "sourcePath = './resources'\n",
    "\n",
    "dfFiles = readCsvFolder(sourcePath);\n",
    "\n",
    "\n"
   ]
  }
 ],
 "metadata": {
  "kernelspec": {
   "display_name": "Python 3",
   "language": "python",
   "name": "python3"
  },
  "language_info": {
   "codemirror_mode": {
    "name": "ipython",
    "version": 3
   },
   "file_extension": ".py",
   "mimetype": "text/x-python",
   "name": "python",
   "nbconvert_exporter": "python",
   "pygments_lexer": "ipython3",
   "version": "3.6.6"
  }
 },
 "nbformat": 4,
 "nbformat_minor": 2
}
