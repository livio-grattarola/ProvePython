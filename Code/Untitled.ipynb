{
 "cells": [
  {
   "cell_type": "code",
   "execution_count": 4,
   "metadata": {},
   "outputs": [
    {
     "name": "stdout",
     "output_type": "stream",
     "text": [
      "                                                                                                                                                                                                              Estrazione del 2018-08-24\n",
      "idImpianto Gestore                                          Bandiera      Tipo Impianto Nome Impianto                            Indirizzo                             Comune    Provincia Latitudine                       Longitudine\n",
      "17720      A.NUARA E FIGLI SRL                              Pompe Bianche Altro          XXV APRILE  AGRIGENTO                   VIA XXV APRILE  92100                 AGRIGENTO AG        37.31492626453715         13.571385517716408\n",
      "23778      ALFONSO DI BENEDETTO CARBURANTI LUBRIFICANTI SRL Pompe Bianche Altro         A. Di Benedetto srl Via Imera Ag         VIA IMERA 10 92100                    AGRIGENTO AG        37.312390927445705         13.58591309570079\n",
      "42421      EOS SERVICES S.R.L. A SOCIO UNICO                Q8            Altro         AG011                                    VIA POMPEI 54 92019                   AGRIGENTO AG        37.523664558937085        13.073832392692566\n",
      "20438      SERVIZI & GESTIONI ITALIA S.R.L.                 Q8            Altro         AGRIGENTO EX S.S.115 KM 191+222 VIL.MOSE EX S.S.115 KM 191+222 VIL.MOSE  92100 AGRIGENTO AG        37.27431987367583         13.614236337434363\n"
     ]
    }
   ],
   "source": [
    "import pandas as pd\n",
    "sides = pd.read_csv('resouces/anagrafica_impianti_attivi-500.csv' , sep=';')\n",
    "print(sides.head())\n"
   ]
  },
  {
   "cell_type": "code",
   "execution_count": null,
   "metadata": {},
   "outputs": [],
   "source": []
  }
 ],
 "metadata": {
  "kernelspec": {
   "display_name": "Python 3",
   "language": "python",
   "name": "python3"
  },
  "language_info": {
   "codemirror_mode": {
    "name": "ipython",
    "version": 3
   },
   "file_extension": ".py",
   "mimetype": "text/x-python",
   "name": "python",
   "nbconvert_exporter": "python",
   "pygments_lexer": "ipython3",
   "version": "3.6.5"
  }
 },
 "nbformat": 4,
 "nbformat_minor": 2
}
